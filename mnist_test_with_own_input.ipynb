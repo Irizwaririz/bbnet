{
 "cells": [
  {
   "cell_type": "code",
   "execution_count": 1,
   "metadata": {},
   "outputs": [],
   "source": [
    "# This code is based from the following:\n",
    "# https://github.com/makeyourownneuralnetwork/makeyourownneuralnetwork/blob/master/part3_neural_network_mnist_and_own_single_image.ipynb\n",
    "# Author: Tariq Rashid\n",
    "# License: GNU GENERAL PUBLIC LICENSE\n",
    "\n",
    "import pickle\n",
    "import numpy as np\n",
    "import matplotlib.pyplot as plt\n",
    "import imageio"
   ]
  },
  {
   "cell_type": "code",
   "execution_count": 2,
   "metadata": {},
   "outputs": [
    {
     "name": "stdout",
     "output_type": "stream",
     "text": [
      "Loading image...\n"
     ]
    },
    {
     "data": {
      "image/png": "[encoded data removed]",
      "text/plain": [
       "<Figure size 432x288 with 1 Axes>"
      ]
     },
     "metadata": {
      "needs_background": "light"
     },
     "output_type": "display_data"
    },
    {
     "name": "stdout",
     "output_type": "stream",
     "text": [
      "Raw estimates:\n",
      "[[-0.01999566 -0.0045909   0.16441794  0.08588328  0.03789387  0.22937897\n",
      "  -0.0459002  -0.07954085  0.28082128  0.30167769]]\n",
      "The network says it's a 9\n"
     ]
    }
   ],
   "source": [
    "# Test the neural network with our own images\n",
    "\n",
    "# Load image data from png file into an array\n",
    "print (\"Loading image...\")\n",
    "img_array = imageio.imread('sample_input.png', as_gray=True)\n",
    "    \n",
    "# Reshape from 28x28 to list of 784 values, then invert values\n",
    "img_data  = 255 - img_array.reshape(784)\n",
    "    \n",
    "# Scale data to range from 0.01 to 1.0\n",
    "img_data = (img_data / 255.0 * 0.99) + 0.01\n",
    "\n",
    "# Plot image\n",
    "plt.title(f\"Showing input image\")\n",
    "plt.imshow(img_data.reshape(28,28), cmap='gray')\n",
    "plt.show()\n",
    "\n",
    "# Perform prediction on own image\n",
    "model = pickle.load(open('models/mnist_net.p', 'rb'))\n",
    "print('Raw estimates:')\n",
    "predictions = model.forward(img_data)\n",
    "print(predictions)\n",
    "\n",
    "clean_predictions = predictions.argmax()\n",
    "print(f\"The network says it's a {clean_predictions}\")"
   ]
  }
 ],
 "metadata": {
  "interpreter": {
   "hash": "0f3556a7753b14587b2ccf5606ed10d03c0f0411da4e1e635276bea95ffe7800"
  },
  "kernelspec": {
   "display_name": "Python 3.9.6 64-bit ('base': conda)",
   "language": "python",
   "name": "python3"
  },
  "language_info": {
   "codemirror_mode": {
    "name": "ipython",
    "version": 3
   },
   "file_extension": ".py",
   "mimetype": "text/x-python",
   "name": "python",
   "nbconvert_exporter": "python",
   "pygments_lexer": "ipython3",
   "version": "3.9.6"
  },
  "orig_nbformat": 4
 },
 "nbformat": 4,
 "nbformat_minor": 2
}
